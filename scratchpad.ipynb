{
 "cells": [
  {
   "cell_type": "code",
   "execution_count": 1,
   "metadata": {},
   "outputs": [],
   "source": [
    "import pandas as pd\n",
    "import numpy as np\n",
    "import matplotlib.pyplot as plt\n",
    "import seaborn as sns\n",
    "\n",
    "import warnings\n",
    "warnings.filterwarnings('ignore')\n",
    "\n",
    "import wrangle_zillow\n",
    "from wrangle_zillow import prepare_zillow"
   ]
  },
  {
   "cell_type": "code",
   "execution_count": 2,
   "metadata": {},
   "outputs": [],
   "source": [
    "train, validate, test = prepare_zillow()"
   ]
  },
  {
   "cell_type": "code",
   "execution_count": 3,
   "metadata": {},
   "outputs": [
    {
     "name": "stdout",
     "output_type": "stream",
     "text": [
      "<class 'pandas.core.frame.DataFrame'>\n",
      "Int64Index: 52538 entries, 7561 to 71294\n",
      "Data columns (total 28 columns):\n",
      " #   Column                        Non-Null Count  Dtype  \n",
      "---  ------                        --------------  -----  \n",
      " 0   id                            52538 non-null  int64  \n",
      " 1   parcelid                      52538 non-null  int64  \n",
      " 2   bathroomcnt                   52538 non-null  float64\n",
      " 3   bedroomcnt                    52538 non-null  float64\n",
      " 4   buildingqualitytypeid         52538 non-null  float64\n",
      " 5   calculatedfinishedsquarefeet  52538 non-null  float64\n",
      " 6   fips                          52538 non-null  float64\n",
      " 7   fullbathcnt                   52538 non-null  float64\n",
      " 8   heatingorsystemtypeid         52538 non-null  float64\n",
      " 9   latitude                      52538 non-null  float64\n",
      " 10  longitude                     52538 non-null  float64\n",
      " 11  lotsizesquarefeet             52538 non-null  float64\n",
      " 12  propertycountylandusecode     52538 non-null  object \n",
      " 13  propertylandusetypeid         52538 non-null  float64\n",
      " 14  rawcensustractandblock        52538 non-null  float64\n",
      " 15  regionidcounty                52538 non-null  float64\n",
      " 16  regionidzip                   52538 non-null  float64\n",
      " 17  yearbuilt                     52538 non-null  float64\n",
      " 18  structuretaxvaluedollarcnt    52538 non-null  float64\n",
      " 19  taxvaluedollarcnt             52538 non-null  float64\n",
      " 20  assessmentyear                52538 non-null  float64\n",
      " 21  landtaxvaluedollarcnt         52538 non-null  float64\n",
      " 22  taxamount                     52538 non-null  float64\n",
      " 23  censustractandblock           52538 non-null  float64\n",
      " 24  logerror                      52538 non-null  float64\n",
      " 25  transactiondate               52538 non-null  object \n",
      " 26  heatingorsystemdesc           52538 non-null  object \n",
      " 27  propertylandusedesc           52538 non-null  object \n",
      "dtypes: float64(22), int64(2), object(4)\n",
      "memory usage: 11.6+ MB\n"
     ]
    }
   ],
   "source": [
    "train.info()"
   ]
  },
  {
   "cell_type": "code",
   "execution_count": 4,
   "metadata": {},
   "outputs": [
    {
     "name": "stdout",
     "output_type": "stream",
     "text": [
      "<class 'pandas.core.frame.DataFrame'>\n",
      "Int64Index: 13135 entries, 13773 to 37079\n",
      "Data columns (total 28 columns):\n",
      " #   Column                        Non-Null Count  Dtype  \n",
      "---  ------                        --------------  -----  \n",
      " 0   id                            13135 non-null  int64  \n",
      " 1   parcelid                      13135 non-null  int64  \n",
      " 2   bathroomcnt                   13135 non-null  float64\n",
      " 3   bedroomcnt                    13135 non-null  float64\n",
      " 4   buildingqualitytypeid         13135 non-null  float64\n",
      " 5   calculatedfinishedsquarefeet  13135 non-null  float64\n",
      " 6   fips                          13135 non-null  float64\n",
      " 7   fullbathcnt                   13135 non-null  float64\n",
      " 8   heatingorsystemtypeid         13135 non-null  float64\n",
      " 9   latitude                      13135 non-null  float64\n",
      " 10  longitude                     13135 non-null  float64\n",
      " 11  lotsizesquarefeet             13135 non-null  float64\n",
      " 12  propertycountylandusecode     13135 non-null  object \n",
      " 13  propertylandusetypeid         13135 non-null  float64\n",
      " 14  rawcensustractandblock        13135 non-null  float64\n",
      " 15  regionidcounty                13135 non-null  float64\n",
      " 16  regionidzip                   13135 non-null  float64\n",
      " 17  yearbuilt                     13135 non-null  float64\n",
      " 18  structuretaxvaluedollarcnt    13135 non-null  float64\n",
      " 19  taxvaluedollarcnt             13135 non-null  float64\n",
      " 20  assessmentyear                13135 non-null  float64\n",
      " 21  landtaxvaluedollarcnt         13135 non-null  float64\n",
      " 22  taxamount                     13135 non-null  float64\n",
      " 23  censustractandblock           13135 non-null  float64\n",
      " 24  logerror                      13135 non-null  float64\n",
      " 25  transactiondate               13135 non-null  object \n",
      " 26  heatingorsystemdesc           13135 non-null  object \n",
      " 27  propertylandusedesc           13135 non-null  object \n",
      "dtypes: float64(22), int64(2), object(4)\n",
      "memory usage: 2.9+ MB\n"
     ]
    }
   ],
   "source": [
    "validate.info()"
   ]
  },
  {
   "cell_type": "code",
   "execution_count": 5,
   "metadata": {},
   "outputs": [
    {
     "name": "stdout",
     "output_type": "stream",
     "text": [
      "<class 'pandas.core.frame.DataFrame'>\n",
      "Int64Index: 7298 entries, 53133 to 8772\n",
      "Data columns (total 28 columns):\n",
      " #   Column                        Non-Null Count  Dtype  \n",
      "---  ------                        --------------  -----  \n",
      " 0   id                            7298 non-null   int64  \n",
      " 1   parcelid                      7298 non-null   int64  \n",
      " 2   bathroomcnt                   7298 non-null   float64\n",
      " 3   bedroomcnt                    7298 non-null   float64\n",
      " 4   buildingqualitytypeid         7298 non-null   float64\n",
      " 5   calculatedfinishedsquarefeet  7298 non-null   float64\n",
      " 6   fips                          7298 non-null   float64\n",
      " 7   fullbathcnt                   7298 non-null   float64\n",
      " 8   heatingorsystemtypeid         7298 non-null   float64\n",
      " 9   latitude                      7298 non-null   float64\n",
      " 10  longitude                     7298 non-null   float64\n",
      " 11  lotsizesquarefeet             7298 non-null   float64\n",
      " 12  propertycountylandusecode     7298 non-null   object \n",
      " 13  propertylandusetypeid         7298 non-null   float64\n",
      " 14  rawcensustractandblock        7298 non-null   float64\n",
      " 15  regionidcounty                7298 non-null   float64\n",
      " 16  regionidzip                   7298 non-null   float64\n",
      " 17  yearbuilt                     7298 non-null   float64\n",
      " 18  structuretaxvaluedollarcnt    7298 non-null   float64\n",
      " 19  taxvaluedollarcnt             7298 non-null   float64\n",
      " 20  assessmentyear                7298 non-null   float64\n",
      " 21  landtaxvaluedollarcnt         7298 non-null   float64\n",
      " 22  taxamount                     7298 non-null   float64\n",
      " 23  censustractandblock           7298 non-null   float64\n",
      " 24  logerror                      7298 non-null   float64\n",
      " 25  transactiondate               7298 non-null   object \n",
      " 26  heatingorsystemdesc           7298 non-null   object \n",
      " 27  propertylandusedesc           7298 non-null   object \n",
      "dtypes: float64(22), int64(2), object(4)\n",
      "memory usage: 1.6+ MB\n"
     ]
    }
   ],
   "source": [
    "test.info()"
   ]
  },
  {
   "cell_type": "code",
   "execution_count": null,
   "metadata": {},
   "outputs": [],
   "source": []
  }
 ],
 "metadata": {
  "kernelspec": {
   "display_name": "Python 3",
   "language": "python",
   "name": "python3"
  },
  "language_info": {
   "codemirror_mode": {
    "name": "ipython",
    "version": 3
   },
   "file_extension": ".py",
   "mimetype": "text/x-python",
   "name": "python",
   "nbconvert_exporter": "python",
   "pygments_lexer": "ipython3",
   "version": "3.7.6"
  }
 },
 "nbformat": 4,
 "nbformat_minor": 4
}
