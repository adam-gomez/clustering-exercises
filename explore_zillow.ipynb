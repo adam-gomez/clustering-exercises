{
 "cells": [
  {
   "cell_type": "markdown",
   "metadata": {},
   "source": [
    "# Exploration Exercises"
   ]
  },
  {
   "cell_type": "code",
   "execution_count": 1,
   "metadata": {},
   "outputs": [],
   "source": [
    "# ignore warnings\n",
    "import warnings\n",
    "warnings.filterwarnings(\"ignore\")\n",
    "\n",
    "# Wrangling\n",
    "import pandas as pd\n",
    "import numpy as np\n",
    "from sklearn.model_selection import train_test_split\n",
    "\n",
    "# Statistical Tests\n",
    "import scipy.stats as stats\n",
    "\n",
    "# Visualizing\n",
    "import matplotlib.pyplot as plt\n",
    "from matplotlib import cm\n",
    "import seaborn as sns\n",
    "\n",
    "pd.options.display.float_format = '{:20,.2f}'.format\n",
    "\n",
    "from wrangle_zillow import prepare_zillow\n",
    "import wrangle_zillow"
   ]
  },
  {
   "cell_type": "markdown",
   "metadata": {},
   "source": [
    "## Tips Dataset\n",
    "Create either a python script or a jupyter notebook named explore_tips that explores the tips data set that is built in to seaborn. Perform at least 1 t-test and 1 chi square test.\n",
    "\n",
    "You can load the data set like this:\n",
    "\n",
    "`import seaborn as sns\n",
    "\n",
    "sns.load_dataset('tips')`"
   ]
  },
  {
   "cell_type": "code",
   "execution_count": 2,
   "metadata": {},
   "outputs": [],
   "source": [
    "tips = sns.load_dataset('tips')"
   ]
  },
  {
   "cell_type": "code",
   "execution_count": 3,
   "metadata": {},
   "outputs": [
    {
     "data": {
      "text/html": [
       "<div>\n",
       "<style scoped>\n",
       "    .dataframe tbody tr th:only-of-type {\n",
       "        vertical-align: middle;\n",
       "    }\n",
       "\n",
       "    .dataframe tbody tr th {\n",
       "        vertical-align: top;\n",
       "    }\n",
       "\n",
       "    .dataframe thead th {\n",
       "        text-align: right;\n",
       "    }\n",
       "</style>\n",
       "<table border=\"1\" class=\"dataframe\">\n",
       "  <thead>\n",
       "    <tr style=\"text-align: right;\">\n",
       "      <th></th>\n",
       "      <th>total_bill</th>\n",
       "      <th>tip</th>\n",
       "      <th>sex</th>\n",
       "      <th>smoker</th>\n",
       "      <th>day</th>\n",
       "      <th>time</th>\n",
       "      <th>size</th>\n",
       "    </tr>\n",
       "  </thead>\n",
       "  <tbody>\n",
       "    <tr>\n",
       "      <th>0</th>\n",
       "      <td>16.99</td>\n",
       "      <td>1.01</td>\n",
       "      <td>Female</td>\n",
       "      <td>No</td>\n",
       "      <td>Sun</td>\n",
       "      <td>Dinner</td>\n",
       "      <td>2</td>\n",
       "    </tr>\n",
       "    <tr>\n",
       "      <th>1</th>\n",
       "      <td>10.34</td>\n",
       "      <td>1.66</td>\n",
       "      <td>Male</td>\n",
       "      <td>No</td>\n",
       "      <td>Sun</td>\n",
       "      <td>Dinner</td>\n",
       "      <td>3</td>\n",
       "    </tr>\n",
       "    <tr>\n",
       "      <th>2</th>\n",
       "      <td>21.01</td>\n",
       "      <td>3.50</td>\n",
       "      <td>Male</td>\n",
       "      <td>No</td>\n",
       "      <td>Sun</td>\n",
       "      <td>Dinner</td>\n",
       "      <td>3</td>\n",
       "    </tr>\n",
       "    <tr>\n",
       "      <th>3</th>\n",
       "      <td>23.68</td>\n",
       "      <td>3.31</td>\n",
       "      <td>Male</td>\n",
       "      <td>No</td>\n",
       "      <td>Sun</td>\n",
       "      <td>Dinner</td>\n",
       "      <td>2</td>\n",
       "    </tr>\n",
       "    <tr>\n",
       "      <th>4</th>\n",
       "      <td>24.59</td>\n",
       "      <td>3.61</td>\n",
       "      <td>Female</td>\n",
       "      <td>No</td>\n",
       "      <td>Sun</td>\n",
       "      <td>Dinner</td>\n",
       "      <td>4</td>\n",
       "    </tr>\n",
       "  </tbody>\n",
       "</table>\n",
       "</div>"
      ],
      "text/plain": [
       "            total_bill                  tip     sex smoker  day    time  size\n",
       "0                16.99                 1.01  Female     No  Sun  Dinner     2\n",
       "1                10.34                 1.66    Male     No  Sun  Dinner     3\n",
       "2                21.01                 3.50    Male     No  Sun  Dinner     3\n",
       "3                23.68                 3.31    Male     No  Sun  Dinner     2\n",
       "4                24.59                 3.61  Female     No  Sun  Dinner     4"
      ]
     },
     "execution_count": 3,
     "metadata": {},
     "output_type": "execute_result"
    }
   ],
   "source": [
    "tips.head()"
   ]
  },
  {
   "cell_type": "code",
   "execution_count": 4,
   "metadata": {},
   "outputs": [
    {
     "data": {
      "image/png": "[encoded data removed]",
      "text/plain": [
       "<Figure size 432x288 with 1 Axes>"
      ]
     },
     "metadata": {
      "needs_background": "light"
     },
     "output_type": "display_data"
    }
   ],
   "source": [
    "plt.hist(tips.total_bill)\n",
    "plt.title('Distribution of Total Bill')\n",
    "plt.xlabel('Total Bill')\n",
    "plt.ylabel('Count')\n",
    "plt.show()"
   ]
  },
  {
   "cell_type": "code",
   "execution_count": 5,
   "metadata": {},
   "outputs": [
    {
     "data": {
      "image/png": "[encoded data removed]",
      "text/plain": [
       "<Figure size 432x288 with 1 Axes>"
      ]
     },
     "metadata": {
      "needs_background": "light"
     },
     "output_type": "display_data"
    }
   ],
   "source": [
    "plt.hist(tips.tip)\n",
    "plt.title('Distribution of Tips')\n",
    "plt.xlabel('Tip Amount')\n",
    "plt.ylabel('Count')\n",
    "plt.show()"
   ]
  },
  {
   "cell_type": "code",
   "execution_count": 6,
   "metadata": {},
   "outputs": [
    {
     "data": {
      "image/png": "[encoded data removed]",
      "text/plain": [
       "<Figure size 432x288 with 1 Axes>"
      ]
     },
     "metadata": {
      "needs_background": "light"
     },
     "output_type": "display_data"
    }
   ],
   "source": [
    "plt.hist(tips.sex)\n",
    "plt.title('Distribution of Sex in Tips Database')\n",
    "plt.show()"
   ]
  },
  {
   "cell_type": "code",
   "execution_count": 7,
   "metadata": {},
   "outputs": [
    {
     "data": {
      "image/png": "[encoded data removed]",
      "text/plain": [
       "<Figure size 432x288 with 1 Axes>"
      ]
     },
     "metadata": {
      "needs_background": "light"
     },
     "output_type": "display_data"
    }
   ],
   "source": [
    "plt.hist(tips.smoker)\n",
    "plt.title('Distribution of Smokers in Tips Data')\n",
    "plt.show()"
   ]
  },
  {
   "cell_type": "code",
   "execution_count": 8,
   "metadata": {},
   "outputs": [
    {
     "data": {
      "image/png": "[encoded data removed]",
      "text/plain": [
       "<Figure size 432x288 with 1 Axes>"
      ]
     },
     "metadata": {
      "needs_background": "light"
     },
     "output_type": "display_data"
    }
   ],
   "source": [
    "plt.hist(tips.day)\n",
    "plt.title('Distribution of Daytime Frequency')\n",
    "plt.show()"
   ]
  },
  {
   "cell_type": "code",
   "execution_count": 9,
   "metadata": {},
   "outputs": [
    {
     "data": {
      "image/png": "[encoded data removed]",
      "text/plain": [
       "<Figure size 432x288 with 1 Axes>"
      ]
     },
     "metadata": {
      "needs_background": "light"
     },
     "output_type": "display_data"
    }
   ],
   "source": [
    "plt.hist(tips.time)\n",
    "plt.title('Distribution of Meal Time')\n",
    "plt.show()"
   ]
  },
  {
   "cell_type": "code",
   "execution_count": 10,
   "metadata": {},
   "outputs": [
    {
     "data": {
      "image/png": "[encoded data removed]",
      "text/plain": [
       "<Figure size 432x288 with 1 Axes>"
      ]
     },
     "metadata": {
      "needs_background": "light"
     },
     "output_type": "display_data"
    }
   ],
   "source": [
    "plt.hist(tips['size'])\n",
    "plt.title('Distribution of Table Size')\n",
    "plt.show()"
   ]
  },
  {
   "cell_type": "markdown",
   "metadata": {},
   "source": [
    "### Question One:\n",
    "Is there a difference in the average total bill between male and female customers?\n",
    "\n",
    "$H_0$: There is no difference in the mean total bill between male and female customers\n",
    "\n",
    "$H_a$: There is a difference in the mean total bill between male and female customers"
   ]
  },
  {
   "cell_type": "code",
   "execution_count": 11,
   "metadata": {},
   "outputs": [
    {
     "data": {
      "text/plain": [
       "<matplotlib.axes._subplots.AxesSubplot at 0x7f8cb4aab850>"
      ]
     },
     "execution_count": 11,
     "metadata": {},
     "output_type": "execute_result"
    },
    {
     "data": {
      "image/png": "[encoded data removed]",
      "text/plain": [
       "<Figure size 432x288 with 1 Axes>"
      ]
     },
     "metadata": {
      "needs_background": "light"
     },
     "output_type": "display_data"
    }
   ],
   "source": [
    "sns.violinplot(x = tips.sex, y = tips.total_bill)"
   ]
  },
  {
   "cell_type": "code",
   "execution_count": 12,
   "metadata": {},
   "outputs": [
    {
     "data": {
      "text/plain": [
       "(2.2777940289803134, 0.0236116668468594)"
      ]
     },
     "execution_count": 12,
     "metadata": {},
     "output_type": "execute_result"
    }
   ],
   "source": [
    "# The data appears to have similar variance between sexes\n",
    "alpha = 0.05\n",
    "statistic, p = stats.ttest_ind(tips.total_bill[tips.sex == 'Male'], tips.total_bill[tips.sex == 'Female'])\n",
    "statistic, p"
   ]
  },
  {
   "cell_type": "code",
   "execution_count": 13,
   "metadata": {},
   "outputs": [
    {
     "data": {
      "text/plain": [
       "True"
      ]
     },
     "execution_count": 13,
     "metadata": {},
     "output_type": "execute_result"
    }
   ],
   "source": [
    "p < alpha"
   ]
  },
  {
   "cell_type": "markdown",
   "metadata": {},
   "source": [
    "**We reject the null hypothesis. Men have a higher total bill on average than women.**"
   ]
  },
  {
   "cell_type": "code",
   "execution_count": 14,
   "metadata": {},
   "outputs": [
    {
     "data": {
      "text/plain": [
       "20.744076433121034"
      ]
     },
     "execution_count": 14,
     "metadata": {},
     "output_type": "execute_result"
    }
   ],
   "source": [
    "tips[tips.sex == 'Male'].total_bill.mean()"
   ]
  },
  {
   "cell_type": "code",
   "execution_count": 15,
   "metadata": {},
   "outputs": [
    {
     "data": {
      "text/plain": [
       "18.056896551724137"
      ]
     },
     "execution_count": 15,
     "metadata": {},
     "output_type": "execute_result"
    }
   ],
   "source": [
    "tips[tips.sex == 'Female'].total_bill.mean()"
   ]
  },
  {
   "cell_type": "markdown",
   "metadata": {},
   "source": [
    "### Question Two:\n",
    "Is smoking status dependent on sex?\n",
    "\n",
    "$H_0$ A customer's smoking status is independent of their sex  \n",
    "$H_a$ A customer's smoking status is dependent on their sex"
   ]
  },
  {
   "cell_type": "code",
   "execution_count": 16,
   "metadata": {},
   "outputs": [
    {
     "data": {
      "text/html": [
       "<div>\n",
       "<style scoped>\n",
       "    .dataframe tbody tr th:only-of-type {\n",
       "        vertical-align: middle;\n",
       "    }\n",
       "\n",
       "    .dataframe tbody tr th {\n",
       "        vertical-align: top;\n",
       "    }\n",
       "\n",
       "    .dataframe thead th {\n",
       "        text-align: right;\n",
       "    }\n",
       "</style>\n",
       "<table border=\"1\" class=\"dataframe\">\n",
       "  <thead>\n",
       "    <tr style=\"text-align: right;\">\n",
       "      <th>smoker</th>\n",
       "      <th>Yes</th>\n",
       "      <th>No</th>\n",
       "    </tr>\n",
       "    <tr>\n",
       "      <th>sex</th>\n",
       "      <th></th>\n",
       "      <th></th>\n",
       "    </tr>\n",
       "  </thead>\n",
       "  <tbody>\n",
       "    <tr>\n",
       "      <th>Male</th>\n",
       "      <td>60</td>\n",
       "      <td>97</td>\n",
       "    </tr>\n",
       "    <tr>\n",
       "      <th>Female</th>\n",
       "      <td>33</td>\n",
       "      <td>54</td>\n",
       "    </tr>\n",
       "  </tbody>\n",
       "</table>\n",
       "</div>"
      ],
      "text/plain": [
       "smoker  Yes  No\n",
       "sex            \n",
       "Male     60  97\n",
       "Female   33  54"
      ]
     },
     "execution_count": 16,
     "metadata": {},
     "output_type": "execute_result"
    }
   ],
   "source": [
    "ctab = pd.crosstab(tips.sex, tips.smoker)\n",
    "ctab"
   ]
  },
  {
   "cell_type": "code",
   "execution_count": 17,
   "metadata": {},
   "outputs": [
    {
     "data": {
      "text/plain": [
       "(0.008763290531773594, 0.925417020494423)"
      ]
     },
     "execution_count": 17,
     "metadata": {},
     "output_type": "execute_result"
    }
   ],
   "source": [
    "chi2, p, degf, expected = stats.chi2_contingency(ctab)\n",
    "chi2, p"
   ]
  },
  {
   "cell_type": "code",
   "execution_count": 18,
   "metadata": {},
   "outputs": [
    {
     "data": {
      "text/plain": [
       "False"
      ]
     },
     "execution_count": 18,
     "metadata": {},
     "output_type": "execute_result"
    }
   ],
   "source": [
    "p < alpha"
   ]
  },
  {
   "cell_type": "markdown",
   "metadata": {},
   "source": [
    "**We fail to reject the null hypothesis. Smoking status is independent of sex.**"
   ]
  },
  {
   "cell_type": "markdown",
   "metadata": {},
   "source": [
    "## Zillow Dataset"
   ]
  },
  {
   "cell_type": "code",
   "execution_count": 19,
   "metadata": {},
   "outputs": [],
   "source": [
    "train, validate, test = prepare_zillow()"
   ]
  },
  {
   "cell_type": "code",
   "execution_count": 20,
   "metadata": {},
   "outputs": [
    {
     "data": {
      "text/html": [
       "<div>\n",
       "<style scoped>\n",
       "    .dataframe tbody tr th:only-of-type {\n",
       "        vertical-align: middle;\n",
       "    }\n",
       "\n",
       "    .dataframe tbody tr th {\n",
       "        vertical-align: top;\n",
       "    }\n",
       "\n",
       "    .dataframe thead th {\n",
       "        text-align: right;\n",
       "    }\n",
       "</style>\n",
       "<table border=\"1\" class=\"dataframe\">\n",
       "  <thead>\n",
       "    <tr style=\"text-align: right;\">\n",
       "      <th></th>\n",
       "      <th>7561</th>\n",
       "      <th>63729</th>\n",
       "      <th>68688</th>\n",
       "      <th>70148</th>\n",
       "      <th>71810</th>\n",
       "    </tr>\n",
       "  </thead>\n",
       "  <tbody>\n",
       "    <tr>\n",
       "      <th>id</th>\n",
       "      <td>2700737</td>\n",
       "      <td>639102</td>\n",
       "      <td>826154</td>\n",
       "      <td>2696314</td>\n",
       "      <td>1011588</td>\n",
       "    </tr>\n",
       "    <tr>\n",
       "      <th>parcelid</th>\n",
       "      <td>10845039</td>\n",
       "      <td>14474251</td>\n",
       "      <td>12006951</td>\n",
       "      <td>14369321</td>\n",
       "      <td>14334565</td>\n",
       "    </tr>\n",
       "    <tr>\n",
       "      <th>bathroomcnt</th>\n",
       "      <td>3.00</td>\n",
       "      <td>3.00</td>\n",
       "      <td>2.00</td>\n",
       "      <td>3.00</td>\n",
       "      <td>3.00</td>\n",
       "    </tr>\n",
       "    <tr>\n",
       "      <th>bedroomcnt</th>\n",
       "      <td>3.00</td>\n",
       "      <td>3.00</td>\n",
       "      <td>3.00</td>\n",
       "      <td>4.00</td>\n",
       "      <td>3.00</td>\n",
       "    </tr>\n",
       "    <tr>\n",
       "      <th>buildingqualitytypeid</th>\n",
       "      <td>8.00</td>\n",
       "      <td>6.64</td>\n",
       "      <td>6.00</td>\n",
       "      <td>6.64</td>\n",
       "      <td>6.64</td>\n",
       "    </tr>\n",
       "    <tr>\n",
       "      <th>calculatedfinishedsquarefeet</th>\n",
       "      <td>1,376.00</td>\n",
       "      <td>2,106.00</td>\n",
       "      <td>1,834.00</td>\n",
       "      <td>2,246.00</td>\n",
       "      <td>2,662.00</td>\n",
       "    </tr>\n",
       "    <tr>\n",
       "      <th>fips</th>\n",
       "      <td>Los Angeles</td>\n",
       "      <td>Orange</td>\n",
       "      <td>Los Angeles</td>\n",
       "      <td>Orange</td>\n",
       "      <td>Orange</td>\n",
       "    </tr>\n",
       "    <tr>\n",
       "      <th>fullbathcnt</th>\n",
       "      <td>3.00</td>\n",
       "      <td>3.00</td>\n",
       "      <td>2.00</td>\n",
       "      <td>3.00</td>\n",
       "      <td>3.00</td>\n",
       "    </tr>\n",
       "    <tr>\n",
       "      <th>heatingorsystemtypeid</th>\n",
       "      <td>2.00</td>\n",
       "      <td>2.00</td>\n",
       "      <td>7.00</td>\n",
       "      <td>2.00</td>\n",
       "      <td>2.00</td>\n",
       "    </tr>\n",
       "    <tr>\n",
       "      <th>latitude</th>\n",
       "      <td>34,169,700.00</td>\n",
       "      <td>33,612,891.00</td>\n",
       "      <td>34,088,869.00</td>\n",
       "      <td>33,642,328.00</td>\n",
       "      <td>33,763,341.00</td>\n",
       "    </tr>\n",
       "    <tr>\n",
       "      <th>longitude</th>\n",
       "      <td>-118,447,000.00</td>\n",
       "      <td>-117,678,135.00</td>\n",
       "      <td>-118,296,370.00</td>\n",
       "      <td>-117,674,382.00</td>\n",
       "      <td>-117,793,877.00</td>\n",
       "    </tr>\n",
       "    <tr>\n",
       "      <th>lotsizesquarefeet</th>\n",
       "      <td>72,141.00</td>\n",
       "      <td>7,800.00</td>\n",
       "      <td>5,055.00</td>\n",
       "      <td>6,175.00</td>\n",
       "      <td>10,002.00</td>\n",
       "    </tr>\n",
       "    <tr>\n",
       "      <th>propertycountylandusecode</th>\n",
       "      <td>010C</td>\n",
       "      <td>122</td>\n",
       "      <td>0100</td>\n",
       "      <td>122</td>\n",
       "      <td>122</td>\n",
       "    </tr>\n",
       "    <tr>\n",
       "      <th>propertylandusetypeid</th>\n",
       "      <td>266.00</td>\n",
       "      <td>261.00</td>\n",
       "      <td>261.00</td>\n",
       "      <td>261.00</td>\n",
       "      <td>261.00</td>\n",
       "    </tr>\n",
       "    <tr>\n",
       "      <th>rawcensustractandblock</th>\n",
       "      <td>60,371,285.00</td>\n",
       "      <td>60,590,320.03</td>\n",
       "      <td>60,371,915.00</td>\n",
       "      <td>60,590,524.24</td>\n",
       "      <td>60,590,756.06</td>\n",
       "    </tr>\n",
       "    <tr>\n",
       "      <th>regionidcounty</th>\n",
       "      <td>3,101.00</td>\n",
       "      <td>1,286.00</td>\n",
       "      <td>3,101.00</td>\n",
       "      <td>1,286.00</td>\n",
       "      <td>1,286.00</td>\n",
       "    </tr>\n",
       "    <tr>\n",
       "      <th>regionidzip</th>\n",
       "      <td>96,410.00</td>\n",
       "      <td>96,995.00</td>\n",
       "      <td>96,010.00</td>\n",
       "      <td>96,962.00</td>\n",
       "      <td>97,005.00</td>\n",
       "    </tr>\n",
       "    <tr>\n",
       "      <th>yearbuilt</th>\n",
       "      <td>1,989.00</td>\n",
       "      <td>1,968.00</td>\n",
       "      <td>1,922.00</td>\n",
       "      <td>1,987.00</td>\n",
       "      <td>1,962.00</td>\n",
       "    </tr>\n",
       "    <tr>\n",
       "      <th>structuretaxvaluedollarcnt</th>\n",
       "      <td>39,531.00</td>\n",
       "      <td>64,036.00</td>\n",
       "      <td>123,298.00</td>\n",
       "      <td>212,159.00</td>\n",
       "      <td>150,976.00</td>\n",
       "    </tr>\n",
       "    <tr>\n",
       "      <th>taxvaluedollarcnt</th>\n",
       "      <td>79,684.00</td>\n",
       "      <td>109,867.00</td>\n",
       "      <td>266,097.00</td>\n",
       "      <td>597,133.00</td>\n",
       "      <td>847,794.00</td>\n",
       "    </tr>\n",
       "    <tr>\n",
       "      <th>landtaxvaluedollarcnt</th>\n",
       "      <td>40,153.00</td>\n",
       "      <td>45,831.00</td>\n",
       "      <td>142,799.00</td>\n",
       "      <td>384,974.00</td>\n",
       "      <td>696,818.00</td>\n",
       "    </tr>\n",
       "    <tr>\n",
       "      <th>taxamount</th>\n",
       "      <td>993.82</td>\n",
       "      <td>1,078.64</td>\n",
       "      <td>3,237.83</td>\n",
       "      <td>6,207.12</td>\n",
       "      <td>9,479.72</td>\n",
       "    </tr>\n",
       "    <tr>\n",
       "      <th>censustractandblock</th>\n",
       "      <td>60,371,285,002,016.00</td>\n",
       "      <td>60,590,320,031,003.00</td>\n",
       "      <td>60,371,915,002,002.00</td>\n",
       "      <td>60,590,524,243,009.00</td>\n",
       "      <td>60,590,756,063,003.00</td>\n",
       "    </tr>\n",
       "    <tr>\n",
       "      <th>logerror</th>\n",
       "      <td>0.00</td>\n",
       "      <td>0.01</td>\n",
       "      <td>0.12</td>\n",
       "      <td>0.01</td>\n",
       "      <td>-0.11</td>\n",
       "    </tr>\n",
       "    <tr>\n",
       "      <th>transactiondate</th>\n",
       "      <td>2017-02-02</td>\n",
       "      <td>2017-08-04</td>\n",
       "      <td>2017-08-22</td>\n",
       "      <td>2017-08-25</td>\n",
       "      <td>2017-08-30</td>\n",
       "    </tr>\n",
       "    <tr>\n",
       "      <th>heatingorsystemdesc</th>\n",
       "      <td>Central</td>\n",
       "      <td>Central</td>\n",
       "      <td>Floor/Wall</td>\n",
       "      <td>Central</td>\n",
       "      <td>Central</td>\n",
       "    </tr>\n",
       "    <tr>\n",
       "      <th>propertylandusedesc</th>\n",
       "      <td>Condominium</td>\n",
       "      <td>Single Family Residential</td>\n",
       "      <td>Single Family Residential</td>\n",
       "      <td>Single Family Residential</td>\n",
       "      <td>Single Family Residential</td>\n",
       "    </tr>\n",
       "  </tbody>\n",
       "</table>\n",
       "</div>"
      ],
      "text/plain": [
       "                                             7561                       63729  \\\n",
       "id                                         2700737                     639102   \n",
       "parcelid                                  10845039                   14474251   \n",
       "bathroomcnt                                   3.00                       3.00   \n",
       "bedroomcnt                                    3.00                       3.00   \n",
       "buildingqualitytypeid                         8.00                       6.64   \n",
       "calculatedfinishedsquarefeet              1,376.00                   2,106.00   \n",
       "fips                                   Los Angeles                     Orange   \n",
       "fullbathcnt                                   3.00                       3.00   \n",
       "heatingorsystemtypeid                         2.00                       2.00   \n",
       "latitude                             34,169,700.00              33,612,891.00   \n",
       "longitude                          -118,447,000.00            -117,678,135.00   \n",
       "lotsizesquarefeet                        72,141.00                   7,800.00   \n",
       "propertycountylandusecode                     010C                        122   \n",
       "propertylandusetypeid                       266.00                     261.00   \n",
       "rawcensustractandblock               60,371,285.00              60,590,320.03   \n",
       "regionidcounty                            3,101.00                   1,286.00   \n",
       "regionidzip                              96,410.00                  96,995.00   \n",
       "yearbuilt                                 1,989.00                   1,968.00   \n",
       "structuretaxvaluedollarcnt               39,531.00                  64,036.00   \n",
       "taxvaluedollarcnt                        79,684.00                 109,867.00   \n",
       "landtaxvaluedollarcnt                    40,153.00                  45,831.00   \n",
       "taxamount                                   993.82                   1,078.64   \n",
       "censustractandblock          60,371,285,002,016.00      60,590,320,031,003.00   \n",
       "logerror                                      0.00                       0.01   \n",
       "transactiondate                         2017-02-02                 2017-08-04   \n",
       "heatingorsystemdesc                        Central                    Central   \n",
       "propertylandusedesc                    Condominium  Single Family Residential   \n",
       "\n",
       "                                                  68688  \\\n",
       "id                                               826154   \n",
       "parcelid                                       12006951   \n",
       "bathroomcnt                                        2.00   \n",
       "bedroomcnt                                         3.00   \n",
       "buildingqualitytypeid                              6.00   \n",
       "calculatedfinishedsquarefeet                   1,834.00   \n",
       "fips                                        Los Angeles   \n",
       "fullbathcnt                                        2.00   \n",
       "heatingorsystemtypeid                              7.00   \n",
       "latitude                                  34,088,869.00   \n",
       "longitude                               -118,296,370.00   \n",
       "lotsizesquarefeet                              5,055.00   \n",
       "propertycountylandusecode                          0100   \n",
       "propertylandusetypeid                            261.00   \n",
       "rawcensustractandblock                    60,371,915.00   \n",
       "regionidcounty                                 3,101.00   \n",
       "regionidzip                                   96,010.00   \n",
       "yearbuilt                                      1,922.00   \n",
       "structuretaxvaluedollarcnt                   123,298.00   \n",
       "taxvaluedollarcnt                            266,097.00   \n",
       "landtaxvaluedollarcnt                        142,799.00   \n",
       "taxamount                                      3,237.83   \n",
       "censustractandblock               60,371,915,002,002.00   \n",
       "logerror                                           0.12   \n",
       "transactiondate                              2017-08-22   \n",
       "heatingorsystemdesc                          Floor/Wall   \n",
       "propertylandusedesc           Single Family Residential   \n",
       "\n",
       "                                                  70148  \\\n",
       "id                                              2696314   \n",
       "parcelid                                       14369321   \n",
       "bathroomcnt                                        3.00   \n",
       "bedroomcnt                                         4.00   \n",
       "buildingqualitytypeid                              6.64   \n",
       "calculatedfinishedsquarefeet                   2,246.00   \n",
       "fips                                             Orange   \n",
       "fullbathcnt                                        3.00   \n",
       "heatingorsystemtypeid                              2.00   \n",
       "latitude                                  33,642,328.00   \n",
       "longitude                               -117,674,382.00   \n",
       "lotsizesquarefeet                              6,175.00   \n",
       "propertycountylandusecode                           122   \n",
       "propertylandusetypeid                            261.00   \n",
       "rawcensustractandblock                    60,590,524.24   \n",
       "regionidcounty                                 1,286.00   \n",
       "regionidzip                                   96,962.00   \n",
       "yearbuilt                                      1,987.00   \n",
       "structuretaxvaluedollarcnt                   212,159.00   \n",
       "taxvaluedollarcnt                            597,133.00   \n",
       "landtaxvaluedollarcnt                        384,974.00   \n",
       "taxamount                                      6,207.12   \n",
       "censustractandblock               60,590,524,243,009.00   \n",
       "logerror                                           0.01   \n",
       "transactiondate                              2017-08-25   \n",
       "heatingorsystemdesc                             Central   \n",
       "propertylandusedesc           Single Family Residential   \n",
       "\n",
       "                                                  71810  \n",
       "id                                              1011588  \n",
       "parcelid                                       14334565  \n",
       "bathroomcnt                                        3.00  \n",
       "bedroomcnt                                         3.00  \n",
       "buildingqualitytypeid                              6.64  \n",
       "calculatedfinishedsquarefeet                   2,662.00  \n",
       "fips                                             Orange  \n",
       "fullbathcnt                                        3.00  \n",
       "heatingorsystemtypeid                              2.00  \n",
       "latitude                                  33,763,341.00  \n",
       "longitude                               -117,793,877.00  \n",
       "lotsizesquarefeet                             10,002.00  \n",
       "propertycountylandusecode                           122  \n",
       "propertylandusetypeid                            261.00  \n",
       "rawcensustractandblock                    60,590,756.06  \n",
       "regionidcounty                                 1,286.00  \n",
       "regionidzip                                   97,005.00  \n",
       "yearbuilt                                      1,962.00  \n",
       "structuretaxvaluedollarcnt                   150,976.00  \n",
       "taxvaluedollarcnt                            847,794.00  \n",
       "landtaxvaluedollarcnt                        696,818.00  \n",
       "taxamount                                      9,479.72  \n",
       "censustractandblock               60,590,756,063,003.00  \n",
       "logerror                                          -0.11  \n",
       "transactiondate                              2017-08-30  \n",
       "heatingorsystemdesc                             Central  \n",
       "propertylandusedesc           Single Family Residential  "
      ]
     },
     "execution_count": 20,
     "metadata": {},
     "output_type": "execute_result"
    }
   ],
   "source": [
    "train.head().T"
   ]
  },
  {
   "cell_type": "code",
   "execution_count": 21,
   "metadata": {},
   "outputs": [
    {
     "name": "stdout",
     "output_type": "stream",
     "text": [
      "<class 'pandas.core.frame.DataFrame'>\n",
      "Int64Index: 52538 entries, 7561 to 71294\n",
      "Data columns (total 27 columns):\n",
      " #   Column                        Non-Null Count  Dtype  \n",
      "---  ------                        --------------  -----  \n",
      " 0   id                            52538 non-null  object \n",
      " 1   parcelid                      52538 non-null  object \n",
      " 2   bathroomcnt                   52538 non-null  float64\n",
      " 3   bedroomcnt                    52538 non-null  float64\n",
      " 4   buildingqualitytypeid         52538 non-null  float64\n",
      " 5   calculatedfinishedsquarefeet  52538 non-null  float64\n",
      " 6   fips                          52538 non-null  object \n",
      " 7   fullbathcnt                   52538 non-null  float64\n",
      " 8   heatingorsystemtypeid         52538 non-null  float64\n",
      " 9   latitude                      52538 non-null  float64\n",
      " 10  longitude                     52538 non-null  float64\n",
      " 11  lotsizesquarefeet             52538 non-null  float64\n",
      " 12  propertycountylandusecode     52538 non-null  object \n",
      " 13  propertylandusetypeid         52538 non-null  object \n",
      " 14  rawcensustractandblock        52538 non-null  object \n",
      " 15  regionidcounty                52538 non-null  object \n",
      " 16  regionidzip                   52538 non-null  object \n",
      " 17  yearbuilt                     52538 non-null  float64\n",
      " 18  structuretaxvaluedollarcnt    52538 non-null  float64\n",
      " 19  taxvaluedollarcnt             52538 non-null  float64\n",
      " 20  landtaxvaluedollarcnt         52538 non-null  float64\n",
      " 21  taxamount                     52538 non-null  float64\n",
      " 22  censustractandblock           52538 non-null  object \n",
      " 23  logerror                      52538 non-null  float64\n",
      " 24  transactiondate               52538 non-null  object \n",
      " 25  heatingorsystemdesc           52538 non-null  object \n",
      " 26  propertylandusedesc           52538 non-null  object \n",
      "dtypes: float64(15), object(12)\n",
      "memory usage: 11.2+ MB\n"
     ]
    }
   ],
   "source": [
    "train.info()"
   ]
  },
  {
   "cell_type": "code",
   "execution_count": 22,
   "metadata": {},
   "outputs": [
    {
     "data": {
      "text/html": [
       "<div>\n",
       "<style scoped>\n",
       "    .dataframe tbody tr th:only-of-type {\n",
       "        vertical-align: middle;\n",
       "    }\n",
       "\n",
       "    .dataframe tbody tr th {\n",
       "        vertical-align: top;\n",
       "    }\n",
       "\n",
       "    .dataframe thead th {\n",
       "        text-align: right;\n",
       "    }\n",
       "</style>\n",
       "<table border=\"1\" class=\"dataframe\">\n",
       "  <thead>\n",
       "    <tr style=\"text-align: right;\">\n",
       "      <th></th>\n",
       "      <th>count</th>\n",
       "      <th>mean</th>\n",
       "      <th>std</th>\n",
       "      <th>min</th>\n",
       "      <th>25%</th>\n",
       "      <th>50%</th>\n",
       "      <th>75%</th>\n",
       "      <th>max</th>\n",
       "    </tr>\n",
       "  </thead>\n",
       "  <tbody>\n",
       "    <tr>\n",
       "      <th>bathroomcnt</th>\n",
       "      <td>52,538.00</td>\n",
       "      <td>2.29</td>\n",
       "      <td>0.95</td>\n",
       "      <td>0.00</td>\n",
       "      <td>2.00</td>\n",
       "      <td>2.00</td>\n",
       "      <td>3.00</td>\n",
       "      <td>13.00</td>\n",
       "    </tr>\n",
       "    <tr>\n",
       "      <th>bedroomcnt</th>\n",
       "      <td>52,538.00</td>\n",
       "      <td>3.03</td>\n",
       "      <td>1.00</td>\n",
       "      <td>1.00</td>\n",
       "      <td>2.00</td>\n",
       "      <td>3.00</td>\n",
       "      <td>4.00</td>\n",
       "      <td>11.00</td>\n",
       "    </tr>\n",
       "    <tr>\n",
       "      <th>buildingqualitytypeid</th>\n",
       "      <td>52,538.00</td>\n",
       "      <td>6.64</td>\n",
       "      <td>1.35</td>\n",
       "      <td>1.00</td>\n",
       "      <td>6.00</td>\n",
       "      <td>6.64</td>\n",
       "      <td>7.00</td>\n",
       "      <td>12.00</td>\n",
       "    </tr>\n",
       "    <tr>\n",
       "      <th>calculatedfinishedsquarefeet</th>\n",
       "      <td>52,538.00</td>\n",
       "      <td>1,765.88</td>\n",
       "      <td>933.06</td>\n",
       "      <td>152.00</td>\n",
       "      <td>1,175.00</td>\n",
       "      <td>1,530.00</td>\n",
       "      <td>2,081.00</td>\n",
       "      <td>20,612.00</td>\n",
       "    </tr>\n",
       "    <tr>\n",
       "      <th>fullbathcnt</th>\n",
       "      <td>52,538.00</td>\n",
       "      <td>2.22</td>\n",
       "      <td>0.93</td>\n",
       "      <td>1.00</td>\n",
       "      <td>2.00</td>\n",
       "      <td>2.00</td>\n",
       "      <td>3.00</td>\n",
       "      <td>13.00</td>\n",
       "    </tr>\n",
       "    <tr>\n",
       "      <th>heatingorsystemtypeid</th>\n",
       "      <td>52,538.00</td>\n",
       "      <td>3.24</td>\n",
       "      <td>3.07</td>\n",
       "      <td>1.00</td>\n",
       "      <td>2.00</td>\n",
       "      <td>2.00</td>\n",
       "      <td>2.00</td>\n",
       "      <td>24.00</td>\n",
       "    </tr>\n",
       "    <tr>\n",
       "      <th>latitude</th>\n",
       "      <td>52,538.00</td>\n",
       "      <td>34,006,927.94</td>\n",
       "      <td>269,558.73</td>\n",
       "      <td>33,339,527.00</td>\n",
       "      <td>33,806,528.50</td>\n",
       "      <td>34,019,094.00</td>\n",
       "      <td>34,176,950.00</td>\n",
       "      <td>34,818,767.00</td>\n",
       "    </tr>\n",
       "    <tr>\n",
       "      <th>longitude</th>\n",
       "      <td>52,538.00</td>\n",
       "      <td>-118,196,980.91</td>\n",
       "      <td>361,329.90</td>\n",
       "      <td>-119,475,265.00</td>\n",
       "      <td>-118,420,061.75</td>\n",
       "      <td>-118,167,860.50</td>\n",
       "      <td>-117,916,201.00</td>\n",
       "      <td>-117,554,636.00</td>\n",
       "    </tr>\n",
       "    <tr>\n",
       "      <th>lotsizesquarefeet</th>\n",
       "      <td>52,538.00</td>\n",
       "      <td>28,909.97</td>\n",
       "      <td>124,959.26</td>\n",
       "      <td>236.00</td>\n",
       "      <td>5,999.00</td>\n",
       "      <td>7,283.00</td>\n",
       "      <td>10,900.00</td>\n",
       "      <td>6,971,010.00</td>\n",
       "    </tr>\n",
       "    <tr>\n",
       "      <th>yearbuilt</th>\n",
       "      <td>52,538.00</td>\n",
       "      <td>1,969.75</td>\n",
       "      <td>23.02</td>\n",
       "      <td>1,880.00</td>\n",
       "      <td>1,954.00</td>\n",
       "      <td>1,971.00</td>\n",
       "      <td>1,987.00</td>\n",
       "      <td>2,016.00</td>\n",
       "    </tr>\n",
       "    <tr>\n",
       "      <th>structuretaxvaluedollarcnt</th>\n",
       "      <td>52,538.00</td>\n",
       "      <td>189,686.83</td>\n",
       "      <td>225,409.56</td>\n",
       "      <td>44.00</td>\n",
       "      <td>84,644.00</td>\n",
       "      <td>136,799.00</td>\n",
       "      <td>218,647.00</td>\n",
       "      <td>9,164,901.00</td>\n",
       "    </tr>\n",
       "    <tr>\n",
       "      <th>taxvaluedollarcnt</th>\n",
       "      <td>52,538.00</td>\n",
       "      <td>490,629.11</td>\n",
       "      <td>623,934.01</td>\n",
       "      <td>9,242.00</td>\n",
       "      <td>207,106.00</td>\n",
       "      <td>360,643.50</td>\n",
       "      <td>571,000.00</td>\n",
       "      <td>25,381,250.00</td>\n",
       "    </tr>\n",
       "    <tr>\n",
       "      <th>landtaxvaluedollarcnt</th>\n",
       "      <td>52,538.00</td>\n",
       "      <td>301,043.83</td>\n",
       "      <td>458,017.38</td>\n",
       "      <td>161.00</td>\n",
       "      <td>85,078.50</td>\n",
       "      <td>205,081.50</td>\n",
       "      <td>368,803.00</td>\n",
       "      <td>22,335,500.00</td>\n",
       "    </tr>\n",
       "    <tr>\n",
       "      <th>taxamount</th>\n",
       "      <td>52,538.00</td>\n",
       "      <td>5,989.09</td>\n",
       "      <td>7,265.62</td>\n",
       "      <td>19.92</td>\n",
       "      <td>2,716.58</td>\n",
       "      <td>4,451.78</td>\n",
       "      <td>6,928.26</td>\n",
       "      <td>288,524.60</td>\n",
       "    </tr>\n",
       "    <tr>\n",
       "      <th>logerror</th>\n",
       "      <td>52,538.00</td>\n",
       "      <td>0.02</td>\n",
       "      <td>0.16</td>\n",
       "      <td>-4.66</td>\n",
       "      <td>-0.02</td>\n",
       "      <td>0.01</td>\n",
       "      <td>0.04</td>\n",
       "      <td>3.18</td>\n",
       "    </tr>\n",
       "  </tbody>\n",
       "</table>\n",
       "</div>"
      ],
      "text/plain": [
       "                                            count                 mean  \\\n",
       "bathroomcnt                             52,538.00                 2.29   \n",
       "bedroomcnt                              52,538.00                 3.03   \n",
       "buildingqualitytypeid                   52,538.00                 6.64   \n",
       "calculatedfinishedsquarefeet            52,538.00             1,765.88   \n",
       "fullbathcnt                             52,538.00                 2.22   \n",
       "heatingorsystemtypeid                   52,538.00                 3.24   \n",
       "latitude                                52,538.00        34,006,927.94   \n",
       "longitude                               52,538.00      -118,196,980.91   \n",
       "lotsizesquarefeet                       52,538.00            28,909.97   \n",
       "yearbuilt                               52,538.00             1,969.75   \n",
       "structuretaxvaluedollarcnt              52,538.00           189,686.83   \n",
       "taxvaluedollarcnt                       52,538.00           490,629.11   \n",
       "landtaxvaluedollarcnt                   52,538.00           301,043.83   \n",
       "taxamount                               52,538.00             5,989.09   \n",
       "logerror                                52,538.00                 0.02   \n",
       "\n",
       "                                              std                  min  \\\n",
       "bathroomcnt                                  0.95                 0.00   \n",
       "bedroomcnt                                   1.00                 1.00   \n",
       "buildingqualitytypeid                        1.35                 1.00   \n",
       "calculatedfinishedsquarefeet               933.06               152.00   \n",
       "fullbathcnt                                  0.93                 1.00   \n",
       "heatingorsystemtypeid                        3.07                 1.00   \n",
       "latitude                               269,558.73        33,339,527.00   \n",
       "longitude                              361,329.90      -119,475,265.00   \n",
       "lotsizesquarefeet                      124,959.26               236.00   \n",
       "yearbuilt                                   23.02             1,880.00   \n",
       "structuretaxvaluedollarcnt             225,409.56                44.00   \n",
       "taxvaluedollarcnt                      623,934.01             9,242.00   \n",
       "landtaxvaluedollarcnt                  458,017.38               161.00   \n",
       "taxamount                                7,265.62                19.92   \n",
       "logerror                                     0.16                -4.66   \n",
       "\n",
       "                                              25%                  50%  \\\n",
       "bathroomcnt                                  2.00                 2.00   \n",
       "bedroomcnt                                   2.00                 3.00   \n",
       "buildingqualitytypeid                        6.00                 6.64   \n",
       "calculatedfinishedsquarefeet             1,175.00             1,530.00   \n",
       "fullbathcnt                                  2.00                 2.00   \n",
       "heatingorsystemtypeid                        2.00                 2.00   \n",
       "latitude                            33,806,528.50        34,019,094.00   \n",
       "longitude                         -118,420,061.75      -118,167,860.50   \n",
       "lotsizesquarefeet                        5,999.00             7,283.00   \n",
       "yearbuilt                                1,954.00             1,971.00   \n",
       "structuretaxvaluedollarcnt              84,644.00           136,799.00   \n",
       "taxvaluedollarcnt                      207,106.00           360,643.50   \n",
       "landtaxvaluedollarcnt                   85,078.50           205,081.50   \n",
       "taxamount                                2,716.58             4,451.78   \n",
       "logerror                                    -0.02                 0.01   \n",
       "\n",
       "                                              75%                  max  \n",
       "bathroomcnt                                  3.00                13.00  \n",
       "bedroomcnt                                   4.00                11.00  \n",
       "buildingqualitytypeid                        7.00                12.00  \n",
       "calculatedfinishedsquarefeet             2,081.00            20,612.00  \n",
       "fullbathcnt                                  3.00                13.00  \n",
       "heatingorsystemtypeid                        2.00                24.00  \n",
       "latitude                            34,176,950.00        34,818,767.00  \n",
       "longitude                         -117,916,201.00      -117,554,636.00  \n",
       "lotsizesquarefeet                       10,900.00         6,971,010.00  \n",
       "yearbuilt                                1,987.00             2,016.00  \n",
       "structuretaxvaluedollarcnt             218,647.00         9,164,901.00  \n",
       "taxvaluedollarcnt                      571,000.00        25,381,250.00  \n",
       "landtaxvaluedollarcnt                  368,803.00        22,335,500.00  \n",
       "taxamount                                6,928.26           288,524.60  \n",
       "logerror                                     0.04                 3.18  "
      ]
     },
     "execution_count": 22,
     "metadata": {},
     "output_type": "execute_result"
    }
   ],
   "source": [
    "train.describe().T"
   ]
  },
  {
   "cell_type": "markdown",
   "metadata": {},
   "source": [
    "Create a python script or jupyter notebook named explore_zillow and do the following:  \n",
    "- Ask at least 5 questions about the data, keeping in mind that your target variable is logerror. e.g. Is logerror significantly different for properties in LA County vs Orange County vs Ventura County?\n",
    "- Answer those questions through a mix of statistical tests and visualizations.\n",
    "\n",
    "In your exploration, be sure you include the following:  \n",
    "a plot with at least 3 dimensions, such as x, y, and color.  \n",
    "at least 3 different types of plots (like box, scatter, bar, ...)  \n",
    "at least 2 statistical tests.  \n",
    "\n",
    "- document takeaways/conclusions after each question is addressed.\n",
    "\n",
    "Bonus:  \n",
    "Compute the mean(logerror) by zipcode and the overall mean(logerror). Write a loop that will run a t-test between the overall mean and the mean for each zip code. We want to identify the zip codes where the error is significantly higher or lower than the expected error.\n",
    "\n",
    "## Five Questions:\n",
    "### 1. Is logerror significantly different for properties in LA County vs Orange County vs Ventura County?"
   ]
  },
  {
   "cell_type": "code",
   "execution_count": 35,
   "metadata": {},
   "outputs": [
    {
     "data": {
      "text/plain": [
       "<matplotlib.axes._subplots.AxesSubplot at 0x7f8c9e2fb410>"
      ]
     },
     "execution_count": 35,
     "metadata": {},
     "output_type": "execute_result"
    },
    {
     "data": {
      "image/png": "[encoded data removed]",
      "text/plain": [
       "<Figure size 432x288 with 1 Axes>"
      ]
     },
     "metadata": {
      "needs_background": "light"
     },
     "output_type": "display_data"
    }
   ],
   "source": [
    "plt.ylim(-.2, .2) # Range of y-axis is trimmed to better visualize IQR\n",
    "sns.boxplot(data=train, x=train.fips, y=train.logerror)"
   ]
  },
  {
   "cell_type": "markdown",
   "metadata": {},
   "source": [
    "From visual inspection alone, there does not appear to be much difference. The bulk of the observations are all within the same interquartile range, with Los Angeles appearing to have a slightly wider IQR. All three means are very close to each other, with Orange county standing out as slightly higher.  "
   ]
  },
  {
   "cell_type": "code",
   "execution_count": 38,
   "metadata": {},
   "outputs": [
    {
     "name": "stdout",
     "output_type": "stream",
     "text": [
      "The mean logerror in Los Angeles County is 0.013665098443735674\n",
      "The mean logerror in Orange County is 0.020886615557584278\n",
      "The mean logerror in Ventura County is 0.016946686704946267\n"
     ]
    }
   ],
   "source": [
    "print(f'The mean logerror in Los Angeles County is {train.logerror[train.fips == \"Los Angeles\"].mean()}')\n",
    "print(f'The mean logerror in Orange County is {train.logerror[train.fips == \"Orange\"].mean()}')\n",
    "print(f'The mean logerror in Ventura County is {train.logerror[train.fips == \"Ventura\"].mean()}')"
   ]
  },
  {
   "cell_type": "markdown",
   "metadata": {},
   "source": [
    "We can use a one-way Anova to determine if there is a meaningful difference in these means. The ANOVA test has important assumptions that must be satisfied in order for the associated p-value to be valid.\n",
    "\n",
    "1. The samples are independent. (Appears to be True)\n",
    "2. Each sample is from a normally distributed population. (Appears to be True)\n",
    "3. The population standard deviations of the groups are all equal. (Appears to be True)"
   ]
  },
  {
   "cell_type": "code",
   "execution_count": 39,
   "metadata": {},
   "outputs": [
    {
     "data": {
      "text/plain": [
       "(10.245780998894892, 3.557799222907208e-05)"
      ]
     },
     "execution_count": 39,
     "metadata": {},
     "output_type": "execute_result"
    }
   ],
   "source": [
    "alpha = 0.05\n",
    "F, p = stats.f_oneway(train.logerror[train.fips == 'Los Angeles'], train.logerror[train.fips == 'Orange'], train.logerror[train.fips == 'Ventura'])\n",
    "F, p"
   ]
  },
  {
   "cell_type": "code",
   "execution_count": 40,
   "metadata": {},
   "outputs": [
    {
     "data": {
      "text/plain": [
       "True"
      ]
     },
     "execution_count": 40,
     "metadata": {},
     "output_type": "execute_result"
    }
   ],
   "source": [
    "p < alpha"
   ]
  },
  {
   "cell_type": "markdown",
   "metadata": {},
   "source": [
    "#### Takeaways:\n",
    "- There does appear to be a significant difference in the means of each county. There is approximately a .007 difference between the lowest mean logerror (Los Angeles) and the highest mean logerror (Orange). A post-hoc test or two will need to be run to determine which of the means are different from each other. "
   ]
  },
  {
   "cell_type": "markdown",
   "metadata": {},
   "source": [
    "### 2. Is there a relationship between taxvaluedollarcnt and logerror?"
   ]
  },
  {
   "cell_type": "code",
   "execution_count": 41,
   "metadata": {},
   "outputs": [
    {
     "data": {
      "text/plain": [
       "<matplotlib.axes._subplots.AxesSubplot at 0x7f8c9e0a79d0>"
      ]
     },
     "execution_count": 41,
     "metadata": {},
     "output_type": "execute_result"
    },
    {
     "data": {
      "image/png": "[encoded data removed]",
      "text/plain": [
       "<Figure size 432x288 with 1 Axes>"
      ]
     },
     "metadata": {
      "needs_background": "light"
     },
     "output_type": "display_data"
    }
   ],
   "source": [
    "sns.regplot(data=train, x=train.taxvaluedollarcnt, y= train.logerror)"
   ]
  },
  {
   "cell_type": "markdown",
   "metadata": {},
   "source": [
    "Visual inspection of a scatterplot with line of best fit demonstrates that there is no linear relationship between `logerror` and `taxvaluedollarcnt`, but there is clearly a pattern being represented. The variance of the `logerror` increases as `taxvaluedollarcnt` decreases. We can look at this in more detail."
   ]
  },
  {
   "cell_type": "code",
   "execution_count": 43,
   "metadata": {},
   "outputs": [
    {
     "data": {
      "image/png": "[encoded data removed]",
      "text/plain": [
       "<Figure size 432x288 with 1 Axes>"
      ]
     },
     "metadata": {
      "needs_background": "light"
     },
     "output_type": "display_data"
    }
   ],
   "source": [
    "plt.hist(train.taxvaluedollarcnt, bins = 100)\n",
    "plt.title('Distribution of Tax Assessed Property Values')\n",
    "plt.xlabel('Tax Assessed Property Value')\n",
    "plt.ylabel('Count')\n",
    "plt.show()"
   ]
  },
  {
   "cell_type": "code",
   "execution_count": 45,
   "metadata": {},
   "outputs": [
    {
     "data": {
      "text/plain": [
       "count              52,538.00\n",
       "mean              490,629.11\n",
       "std               623,934.01\n",
       "min                 9,242.00\n",
       "25%               207,106.00\n",
       "50%               360,643.50\n",
       "75%               571,000.00\n",
       "max            25,381,250.00\n",
       "Name: taxvaluedollarcnt, dtype: float64"
      ]
     },
     "execution_count": 45,
     "metadata": {},
     "output_type": "execute_result"
    }
   ],
   "source": [
    "train.taxvaluedollarcnt.describe()"
   ]
  },
  {
   "cell_type": "markdown",
   "metadata": {},
   "source": [
    "We can bin the distribution of tax assessed property values into quartiles, then look at the mean log error within each quartile."
   ]
  },
  {
   "cell_type": "code",
   "execution_count": 46,
   "metadata": {},
   "outputs": [
    {
     "data": {
      "text/html": [
       "<div>\n",
       "<style scoped>\n",
       "    .dataframe tbody tr th:only-of-type {\n",
       "        vertical-align: middle;\n",
       "    }\n",
       "\n",
       "    .dataframe tbody tr th {\n",
       "        vertical-align: top;\n",
       "    }\n",
       "\n",
       "    .dataframe thead th {\n",
       "        text-align: right;\n",
       "    }\n",
       "</style>\n",
       "<table border=\"1\" class=\"dataframe\">\n",
       "  <thead>\n",
       "    <tr style=\"text-align: right;\">\n",
       "      <th></th>\n",
       "      <th>id</th>\n",
       "      <th>parcelid</th>\n",
       "      <th>bathroomcnt</th>\n",
       "      <th>bedroomcnt</th>\n",
       "      <th>buildingqualitytypeid</th>\n",
       "      <th>calculatedfinishedsquarefeet</th>\n",
       "      <th>fips</th>\n",
       "      <th>fullbathcnt</th>\n",
       "      <th>heatingorsystemtypeid</th>\n",
       "      <th>latitude</th>\n",
       "      <th>...</th>\n",
       "      <th>structuretaxvaluedollarcnt</th>\n",
       "      <th>taxvaluedollarcnt</th>\n",
       "      <th>landtaxvaluedollarcnt</th>\n",
       "      <th>taxamount</th>\n",
       "      <th>censustractandblock</th>\n",
       "      <th>logerror</th>\n",
       "      <th>transactiondate</th>\n",
       "      <th>heatingorsystemdesc</th>\n",
       "      <th>propertylandusedesc</th>\n",
       "      <th>tax_assessed_value</th>\n",
       "    </tr>\n",
       "  </thead>\n",
       "  <tbody>\n",
       "    <tr>\n",
       "      <th>7561</th>\n",
       "      <td>2700737</td>\n",
       "      <td>10845039</td>\n",
       "      <td>3.00</td>\n",
       "      <td>3.00</td>\n",
       "      <td>8.00</td>\n",
       "      <td>1,376.00</td>\n",
       "      <td>Los Angeles</td>\n",
       "      <td>3.00</td>\n",
       "      <td>2.00</td>\n",
       "      <td>34,169,700.00</td>\n",
       "      <td>...</td>\n",
       "      <td>39,531.00</td>\n",
       "      <td>79,684.00</td>\n",
       "      <td>40,153.00</td>\n",
       "      <td>993.82</td>\n",
       "      <td>60,371,285,002,016.00</td>\n",
       "      <td>0.00</td>\n",
       "      <td>2017-02-02</td>\n",
       "      <td>Central</td>\n",
       "      <td>Condominium</td>\n",
       "      <td>(9241.999, 207106.0]</td>\n",
       "    </tr>\n",
       "    <tr>\n",
       "      <th>63729</th>\n",
       "      <td>639102</td>\n",
       "      <td>14474251</td>\n",
       "      <td>3.00</td>\n",
       "      <td>3.00</td>\n",
       "      <td>6.64</td>\n",
       "      <td>2,106.00</td>\n",
       "      <td>Orange</td>\n",
       "      <td>3.00</td>\n",
       "      <td>2.00</td>\n",
       "      <td>33,612,891.00</td>\n",
       "      <td>...</td>\n",
       "      <td>64,036.00</td>\n",
       "      <td>109,867.00</td>\n",
       "      <td>45,831.00</td>\n",
       "      <td>1,078.64</td>\n",
       "      <td>60,590,320,031,003.00</td>\n",
       "      <td>0.01</td>\n",
       "      <td>2017-08-04</td>\n",
       "      <td>Central</td>\n",
       "      <td>Single Family Residential</td>\n",
       "      <td>(9241.999, 207106.0]</td>\n",
       "    </tr>\n",
       "    <tr>\n",
       "      <th>68688</th>\n",
       "      <td>826154</td>\n",
       "      <td>12006951</td>\n",
       "      <td>2.00</td>\n",
       "      <td>3.00</td>\n",
       "      <td>6.00</td>\n",
       "      <td>1,834.00</td>\n",
       "      <td>Los Angeles</td>\n",
       "      <td>2.00</td>\n",
       "      <td>7.00</td>\n",
       "      <td>34,088,869.00</td>\n",
       "      <td>...</td>\n",
       "      <td>123,298.00</td>\n",
       "      <td>266,097.00</td>\n",
       "      <td>142,799.00</td>\n",
       "      <td>3,237.83</td>\n",
       "      <td>60,371,915,002,002.00</td>\n",
       "      <td>0.12</td>\n",
       "      <td>2017-08-22</td>\n",
       "      <td>Floor/Wall</td>\n",
       "      <td>Single Family Residential</td>\n",
       "      <td>(207106.0, 360643.5]</td>\n",
       "    </tr>\n",
       "    <tr>\n",
       "      <th>70148</th>\n",
       "      <td>2696314</td>\n",
       "      <td>14369321</td>\n",
       "      <td>3.00</td>\n",
       "      <td>4.00</td>\n",
       "      <td>6.64</td>\n",
       "      <td>2,246.00</td>\n",
       "      <td>Orange</td>\n",
       "      <td>3.00</td>\n",
       "      <td>2.00</td>\n",
       "      <td>33,642,328.00</td>\n",
       "      <td>...</td>\n",
       "      <td>212,159.00</td>\n",
       "      <td>597,133.00</td>\n",
       "      <td>384,974.00</td>\n",
       "      <td>6,207.12</td>\n",
       "      <td>60,590,524,243,009.00</td>\n",
       "      <td>0.01</td>\n",
       "      <td>2017-08-25</td>\n",
       "      <td>Central</td>\n",
       "      <td>Single Family Residential</td>\n",
       "      <td>(571000.0, 25381250.0]</td>\n",
       "    </tr>\n",
       "    <tr>\n",
       "      <th>71810</th>\n",
       "      <td>1011588</td>\n",
       "      <td>14334565</td>\n",
       "      <td>3.00</td>\n",
       "      <td>3.00</td>\n",
       "      <td>6.64</td>\n",
       "      <td>2,662.00</td>\n",
       "      <td>Orange</td>\n",
       "      <td>3.00</td>\n",
       "      <td>2.00</td>\n",
       "      <td>33,763,341.00</td>\n",
       "      <td>...</td>\n",
       "      <td>150,976.00</td>\n",
       "      <td>847,794.00</td>\n",
       "      <td>696,818.00</td>\n",
       "      <td>9,479.72</td>\n",
       "      <td>60,590,756,063,003.00</td>\n",
       "      <td>-0.11</td>\n",
       "      <td>2017-08-30</td>\n",
       "      <td>Central</td>\n",
       "      <td>Single Family Residential</td>\n",
       "      <td>(571000.0, 25381250.0]</td>\n",
       "    </tr>\n",
       "  </tbody>\n",
       "</table>\n",
       "<p>5 rows × 28 columns</p>\n",
       "</div>"
      ],
      "text/plain": [
       "            id  parcelid          bathroomcnt           bedroomcnt  \\\n",
       "7561   2700737  10845039                 3.00                 3.00   \n",
       "63729   639102  14474251                 3.00                 3.00   \n",
       "68688   826154  12006951                 2.00                 3.00   \n",
       "70148  2696314  14369321                 3.00                 4.00   \n",
       "71810  1011588  14334565                 3.00                 3.00   \n",
       "\n",
       "       buildingqualitytypeid  calculatedfinishedsquarefeet         fips  \\\n",
       "7561                    8.00                      1,376.00  Los Angeles   \n",
       "63729                   6.64                      2,106.00       Orange   \n",
       "68688                   6.00                      1,834.00  Los Angeles   \n",
       "70148                   6.64                      2,246.00       Orange   \n",
       "71810                   6.64                      2,662.00       Orange   \n",
       "\n",
       "               fullbathcnt  heatingorsystemtypeid             latitude  ...  \\\n",
       "7561                  3.00                   2.00        34,169,700.00  ...   \n",
       "63729                 3.00                   2.00        33,612,891.00  ...   \n",
       "68688                 2.00                   7.00        34,088,869.00  ...   \n",
       "70148                 3.00                   2.00        33,642,328.00  ...   \n",
       "71810                 3.00                   2.00        33,763,341.00  ...   \n",
       "\n",
       "       structuretaxvaluedollarcnt    taxvaluedollarcnt landtaxvaluedollarcnt  \\\n",
       "7561                    39,531.00            79,684.00             40,153.00   \n",
       "63729                   64,036.00           109,867.00             45,831.00   \n",
       "68688                  123,298.00           266,097.00            142,799.00   \n",
       "70148                  212,159.00           597,133.00            384,974.00   \n",
       "71810                  150,976.00           847,794.00            696,818.00   \n",
       "\n",
       "                 taxamount   censustractandblock             logerror  \\\n",
       "7561                993.82 60,371,285,002,016.00                 0.00   \n",
       "63729             1,078.64 60,590,320,031,003.00                 0.01   \n",
       "68688             3,237.83 60,371,915,002,002.00                 0.12   \n",
       "70148             6,207.12 60,590,524,243,009.00                 0.01   \n",
       "71810             9,479.72 60,590,756,063,003.00                -0.11   \n",
       "\n",
       "      transactiondate  heatingorsystemdesc        propertylandusedesc  \\\n",
       "7561       2017-02-02              Central                Condominium   \n",
       "63729      2017-08-04              Central  Single Family Residential   \n",
       "68688      2017-08-22           Floor/Wall  Single Family Residential   \n",
       "70148      2017-08-25              Central  Single Family Residential   \n",
       "71810      2017-08-30              Central  Single Family Residential   \n",
       "\n",
       "           tax_assessed_value  \n",
       "7561     (9241.999, 207106.0]  \n",
       "63729    (9241.999, 207106.0]  \n",
       "68688    (207106.0, 360643.5]  \n",
       "70148  (571000.0, 25381250.0]  \n",
       "71810  (571000.0, 25381250.0]  \n",
       "\n",
       "[5 rows x 28 columns]"
      ]
     },
     "execution_count": 46,
     "metadata": {},
     "output_type": "execute_result"
    }
   ],
   "source": [
    "train['tax_assessed_value'] = pd.qcut(train['taxvaluedollarcnt'], q=4)\n",
    "train.head()"
   ]
  },
  {
   "cell_type": "code",
   "execution_count": 50,
   "metadata": {},
   "outputs": [
    {
     "data": {
      "text/plain": [
       "<matplotlib.axes._subplots.AxesSubplot at 0x7f8ca040d310>"
      ]
     },
     "execution_count": 50,
     "metadata": {},
     "output_type": "execute_result"
    },
    {
     "data": {
      "image/png": "[encoded data removed]",
      "text/plain": [
       "<Figure size 1080x1440 with 1 Axes>"
      ]
     },
     "metadata": {
      "needs_background": "light"
     },
     "output_type": "display_data"
    }
   ],
   "source": [
    "plt.figure(figsize=(15, 20))\n",
    "sns.boxplot(data=train, x='tax_assessed_value', y='logerror')"
   ]
  },
  {
   "cell_type": "markdown",
   "metadata": {},
   "source": [
    "It's difficult to see differences for the bulk of the data (IQR), so we'll zoom in on that segment of the chart."
   ]
  },
  {
   "cell_type": "code",
   "execution_count": 53,
   "metadata": {},
   "outputs": [
    {
     "data": {
      "text/plain": [
       "<matplotlib.axes._subplots.AxesSubplot at 0x7f8ca291bc50>"
      ]
     },
     "execution_count": 53,
     "metadata": {},
     "output_type": "execute_result"
    },
    {
     "data": {
      "image/png": "[encoded data removed]",
      "text/plain": [
       "<Figure size 1080x720 with 1 Axes>"
      ]
     },
     "metadata": {
      "needs_background": "light"
     },
     "output_type": "display_data"
    }
   ],
   "source": [
    "plt.figure(figsize=(15, 10))\n",
    "plt.ylim(-.25, .25)\n",
    "sns.boxplot(data=train, x='tax_assessed_value', y='logerror')"
   ]
  },
  {
   "cell_type": "markdown",
   "metadata": {},
   "source": [
    "The interquartile range is highest for the lowest quartile of tax assessed property values. IQR decreases in the 2nd quartile, decreases even more in the 3rd quartile, and then increases again for the fourth quartile. Median logerror appears to actually be the highest for the 4th quartile."
   ]
  },
  {
   "cell_type": "code",
   "execution_count": 66,
   "metadata": {},
   "outputs": [
    {
     "data": {
      "text/plain": [
       "tax_assessed_value\n",
       "(9241.999, 207106.0]                     0.02\n",
       "(207106.0, 360643.5]                     0.01\n",
       "(360643.5, 571000.0]                     0.01\n",
       "(571000.0, 25381250.0]                   0.02\n",
       "Name: logerror, dtype: float64"
      ]
     },
     "execution_count": 66,
     "metadata": {},
     "output_type": "execute_result"
    }
   ],
   "source": [
    "# Not sure why this is showing incorrect values, perhaps rounding errors?\n",
    "train.groupby('tax_assessed_value').logerror.mean()"
   ]
  },
  {
   "cell_type": "code",
   "execution_count": 75,
   "metadata": {},
   "outputs": [
    {
     "data": {
      "text/plain": [
       "7561     False\n",
       "63729    False\n",
       "68688    False\n",
       "70148    False\n",
       "71810    False\n",
       "         ...  \n",
       "65866    False\n",
       "53351    False\n",
       "60438    False\n",
       "28380    False\n",
       "71294    False\n",
       "Name: tax_assessed_value, Length: 52538, dtype: bool"
      ]
     },
     "execution_count": 75,
     "metadata": {},
     "output_type": "execute_result"
    }
   ],
   "source": [
    "# This doesn't correctly create a boolean mask because the values generated by cut and qcut are special Interval objects, not strings\n",
    "(train.tax_assessed_value == '(9241.999, 207106.0]')"
   ]
  },
  {
   "cell_type": "code",
   "execution_count": 76,
   "metadata": {},
   "outputs": [
    {
     "data": {
      "text/plain": [
       "7561      True\n",
       "63729     True\n",
       "68688    False\n",
       "70148    False\n",
       "71810    False\n",
       "         ...  \n",
       "65866     True\n",
       "53351    False\n",
       "60438    False\n",
       "28380     True\n",
       "71294    False\n",
       "Name: tax_assessed_value, Length: 52538, dtype: bool"
      ]
     },
     "execution_count": 76,
     "metadata": {},
     "output_type": "execute_result"
    }
   ],
   "source": [
    "# This creates a boolean mask for a bin\n",
    "train.tax_assessed_value.isin((9241.999, 207106.0))"
   ]
  },
  {
   "cell_type": "code",
   "execution_count": 78,
   "metadata": {},
   "outputs": [
    {
     "name": "stdout",
     "output_type": "stream",
     "text": [
      "Mean Logerror in Each Quartile:\n",
      "1st Quartile: 0.021292431586636153\n",
      "2nd Quartile: 0.0177923232078399\n",
      "3rd Quartile: 0.012510924532144006\n",
      "4th Quartile: 0.014076960419758424\n"
     ]
    }
   ],
   "source": [
    "first_quartile_logerror_mean = train.logerror[train.tax_assessed_value.isin((9241.999, 207106.0))].mean()\n",
    "second_quartile_logerror_mean = train.logerror[train.tax_assessed_value.isin((207106.0, 360643.5))].mean()\n",
    "third_quartile_logerror_mean = train.logerror[train.tax_assessed_value.isin((360643.5, 571000.0))].mean()\n",
    "fourth_quartile_logerror_mean = train.logerror[train.tax_assessed_value.isin((571000.0, 25381250.0))].mean()\n",
    "print('Mean Logerror in Each Quartile:')\n",
    "print(f'1st Quartile: {first_quartile_logerror_mean}')\n",
    "print(f'2nd Quartile: {second_quartile_logerror_mean}')\n",
    "print(f'3rd Quartile: {third_quartile_logerror_mean}')\n",
    "print(f'4th Quartile: {fourth_quartile_logerror_mean}')"
   ]
  },
  {
   "cell_type": "code",
   "execution_count": 70,
   "metadata": {},
   "outputs": [
    {
     "data": {
      "text/plain": [
       "<matplotlib.axes._subplots.AxesSubplot at 0x7f8ca3f60d90>"
      ]
     },
     "execution_count": 70,
     "metadata": {},
     "output_type": "execute_result"
    },
    {
     "data": {
      "image/png": "[encoded data removed]",
      "text/plain": [
       "<Figure size 1080x720 with 1 Axes>"
      ]
     },
     "metadata": {
      "needs_background": "light"
     },
     "output_type": "display_data"
    }
   ],
   "source": [
    "plt.figure(figsize=(15, 10))\n",
    "plt.ylim(0, .0125)\n",
    "sns.boxplot(data=train, x='tax_assessed_value', y='logerror')"
   ]
  },
  {
   "cell_type": "markdown",
   "metadata": {},
   "source": [
    "The ANOVA test has important assumptions that must be satisfied in order for the associated p-value to be valid.\n",
    "\n",
    "1. The samples are independent. (Appears to be True)\n",
    "2. Each sample is from a normally distributed population. (Appears to be True)\n",
    "3. The population standard deviations of the groups are all equal. (Not sure)"
   ]
  },
  {
   "cell_type": "code",
   "execution_count": 79,
   "metadata": {},
   "outputs": [
    {
     "data": {
      "text/plain": [
       "(11.324217276695936, 2.0136528480411898e-07)"
      ]
     },
     "execution_count": 79,
     "metadata": {},
     "output_type": "execute_result"
    }
   ],
   "source": [
    "alpha = 0.05\n",
    "F, p = stats.f_oneway(train.logerror[train.tax_assessed_value.isin((9241.999, 207106.0))], train.logerror[train.tax_assessed_value.isin((207106.0, 360643.5))], train.logerror[train.tax_assessed_value.isin((360643.5, 571000.0))], train.logerror[train.tax_assessed_value.isin((571000.0, 25381250.0))])\n",
    "F, p"
   ]
  },
  {
   "cell_type": "code",
   "execution_count": 80,
   "metadata": {},
   "outputs": [
    {
     "data": {
      "text/plain": [
       "True"
      ]
     },
     "execution_count": 80,
     "metadata": {},
     "output_type": "execute_result"
    }
   ],
   "source": [
    "p < alpha"
   ]
  },
  {
   "cell_type": "markdown",
   "metadata": {},
   "source": [
    "#### Takeaways:\n",
    "Mean logerror is highest for the 1st quartile or property values and lowest for the 3rd quartile of property values. Anova test shows that there is a statistically sigificant difference in the means of the four quartiles. Post-hoc tests will need to be run to determine which of the means are significantly different from each other and in what way."
   ]
  },
  {
   "cell_type": "markdown",
   "metadata": {},
   "source": [
    "### 3. Does logerror increase with calculatedfinishedsquarefeet?"
   ]
  },
  {
   "cell_type": "code",
   "execution_count": null,
   "metadata": {},
   "outputs": [],
   "source": []
  },
  {
   "cell_type": "markdown",
   "metadata": {},
   "source": [
    "### 4. Are there differences in logerror based on the type of property (propertylandusetypeid)?"
   ]
  },
  {
   "cell_type": "code",
   "execution_count": null,
   "metadata": {},
   "outputs": [],
   "source": []
  },
  {
   "cell_type": "markdown",
   "metadata": {},
   "source": [
    "### 5. Are older houses more difficult to accurately predict than newer houses (yearbuilt)?"
   ]
  },
  {
   "cell_type": "code",
   "execution_count": null,
   "metadata": {},
   "outputs": [],
   "source": []
  },
  {
   "cell_type": "markdown",
   "metadata": {},
   "source": [
    "### BONUS: Compute the mean(logerror) by zipcode and the overall mean(logerror). Write a loop that will run a t-test between the overall mean and the mean for each zip code. We want to identify the zip codes where the error is significantly higher or lower than the expected error."
   ]
  },
  {
   "cell_type": "code",
   "execution_count": null,
   "metadata": {},
   "outputs": [],
   "source": []
  }
 ],
 "metadata": {
  "kernelspec": {
   "display_name": "Python 3",
   "language": "python",
   "name": "python3"
  },
  "language_info": {
   "codemirror_mode": {
    "name": "ipython",
    "version": 3
   },
   "file_extension": ".py",
   "mimetype": "text/x-python",
   "name": "python",
   "nbconvert_exporter": "python",
   "pygments_lexer": "ipython3",
   "version": "3.7.6"
  }
 },
 "nbformat": 4,
 "nbformat_minor": 4
}
